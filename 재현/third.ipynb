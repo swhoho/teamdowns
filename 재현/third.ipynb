{
 "cells": [
  {
   "cell_type": "code",
   "execution_count": 3,
   "metadata": {
    "collapsed": false
   },
   "outputs": [
    {
     "name": "stdout",
     "output_type": "stream",
     "text": [
      "wow\n",
      "wow\n",
      "wow\n"
     ]
    },
    {
     "ename": "KeyError",
     "evalue": "'[ 10.12458386   9.92951601   9.92787085 ...,   5.26592607   6.89824561\\n   5.79735362] not in index'",
     "output_type": "error",
     "traceback": [
      "\u001b[0;31m---------------------------------------------------------------------------\u001b[0m",
      "\u001b[0;31mKeyError\u001b[0m                                  Traceback (most recent call last)",
      "\u001b[0;32m<ipython-input-3-b99a84252a36>\u001b[0m in \u001b[0;36m<module>\u001b[0;34m()\u001b[0m\n\u001b[1;32m    141\u001b[0m \u001b[0mdf\u001b[0m\u001b[1;33m[\u001b[0m\u001b[1;34m'd_to_mac'\u001b[0m\u001b[1;33m]\u001b[0m \u001b[1;33m=\u001b[0m \u001b[0mtest_df\u001b[0m\u001b[1;33m.\u001b[0m\u001b[0md_to_places\u001b[0m\u001b[1;33m(\u001b[0m\u001b[0mmac\u001b[0m\u001b[1;33m)\u001b[0m\u001b[1;33m\u001b[0m\u001b[0m\n\u001b[1;32m    142\u001b[0m \u001b[0mdf\u001b[0m\u001b[1;33m[\u001b[0m\u001b[1;34m'star_bucks'\u001b[0m\u001b[1;33m]\u001b[0m \u001b[1;33m=\u001b[0m \u001b[0mtest_df\u001b[0m\u001b[1;33m.\u001b[0m\u001b[0md_to_starbucks\u001b[0m\u001b[1;33m(\u001b[0m\u001b[1;33m)\u001b[0m\u001b[1;33m\u001b[0m\u001b[0m\n\u001b[0;32m--> 143\u001b[0;31m \u001b[0mdf\u001b[0m \u001b[1;33m=\u001b[0m \u001b[0mdf\u001b[0m\u001b[1;33m[\u001b[0m\u001b[0mdf\u001b[0m\u001b[1;33m.\u001b[0m\u001b[0mdistance_gn\u001b[0m\u001b[1;33m]\u001b[0m\u001b[1;33m\u001b[0m\u001b[0m\n\u001b[0m\u001b[1;32m    144\u001b[0m \u001b[0mdf\u001b[0m \u001b[1;33m=\u001b[0m \u001b[0mdf\u001b[0m\u001b[1;33m[\u001b[0m\u001b[0mdf\u001b[0m\u001b[1;33m.\u001b[0m\u001b[0mstar_bucks\u001b[0m\u001b[1;33m]\u001b[0m\u001b[1;33m\u001b[0m\u001b[0m\n\u001b[1;32m    145\u001b[0m \u001b[0mdf\u001b[0m \u001b[1;33m=\u001b[0m \u001b[0mdf\u001b[0m\u001b[1;33m.\u001b[0m\u001b[0mreset_index\u001b[0m\u001b[1;33m(\u001b[0m\u001b[1;33m)\u001b[0m\u001b[1;33m\u001b[0m\u001b[0m\n",
      "\u001b[0;32mc:\\python27\\lib\\site-packages\\pandas\\core\\frame.pyc\u001b[0m in \u001b[0;36m__getitem__\u001b[0;34m(self, key)\u001b[0m\n\u001b[1;32m   2051\u001b[0m         \u001b[1;32mif\u001b[0m \u001b[0misinstance\u001b[0m\u001b[1;33m(\u001b[0m\u001b[0mkey\u001b[0m\u001b[1;33m,\u001b[0m \u001b[1;33m(\u001b[0m\u001b[0mSeries\u001b[0m\u001b[1;33m,\u001b[0m \u001b[0mnp\u001b[0m\u001b[1;33m.\u001b[0m\u001b[0mndarray\u001b[0m\u001b[1;33m,\u001b[0m \u001b[0mIndex\u001b[0m\u001b[1;33m,\u001b[0m \u001b[0mlist\u001b[0m\u001b[1;33m)\u001b[0m\u001b[1;33m)\u001b[0m\u001b[1;33m:\u001b[0m\u001b[1;33m\u001b[0m\u001b[0m\n\u001b[1;32m   2052\u001b[0m             \u001b[1;31m# either boolean or fancy integer index\u001b[0m\u001b[1;33m\u001b[0m\u001b[1;33m\u001b[0m\u001b[0m\n\u001b[0;32m-> 2053\u001b[0;31m             \u001b[1;32mreturn\u001b[0m \u001b[0mself\u001b[0m\u001b[1;33m.\u001b[0m\u001b[0m_getitem_array\u001b[0m\u001b[1;33m(\u001b[0m\u001b[0mkey\u001b[0m\u001b[1;33m)\u001b[0m\u001b[1;33m\u001b[0m\u001b[0m\n\u001b[0m\u001b[1;32m   2054\u001b[0m         \u001b[1;32melif\u001b[0m \u001b[0misinstance\u001b[0m\u001b[1;33m(\u001b[0m\u001b[0mkey\u001b[0m\u001b[1;33m,\u001b[0m \u001b[0mDataFrame\u001b[0m\u001b[1;33m)\u001b[0m\u001b[1;33m:\u001b[0m\u001b[1;33m\u001b[0m\u001b[0m\n\u001b[1;32m   2055\u001b[0m             \u001b[1;32mreturn\u001b[0m \u001b[0mself\u001b[0m\u001b[1;33m.\u001b[0m\u001b[0m_getitem_frame\u001b[0m\u001b[1;33m(\u001b[0m\u001b[0mkey\u001b[0m\u001b[1;33m)\u001b[0m\u001b[1;33m\u001b[0m\u001b[0m\n",
      "\u001b[0;32mc:\\python27\\lib\\site-packages\\pandas\\core\\frame.pyc\u001b[0m in \u001b[0;36m_getitem_array\u001b[0;34m(self, key)\u001b[0m\n\u001b[1;32m   2095\u001b[0m             \u001b[1;32mreturn\u001b[0m \u001b[0mself\u001b[0m\u001b[1;33m.\u001b[0m\u001b[0mtake\u001b[0m\u001b[1;33m(\u001b[0m\u001b[0mindexer\u001b[0m\u001b[1;33m,\u001b[0m \u001b[0maxis\u001b[0m\u001b[1;33m=\u001b[0m\u001b[1;36m0\u001b[0m\u001b[1;33m,\u001b[0m \u001b[0mconvert\u001b[0m\u001b[1;33m=\u001b[0m\u001b[0mFalse\u001b[0m\u001b[1;33m)\u001b[0m\u001b[1;33m\u001b[0m\u001b[0m\n\u001b[1;32m   2096\u001b[0m         \u001b[1;32melse\u001b[0m\u001b[1;33m:\u001b[0m\u001b[1;33m\u001b[0m\u001b[0m\n\u001b[0;32m-> 2097\u001b[0;31m             \u001b[0mindexer\u001b[0m \u001b[1;33m=\u001b[0m \u001b[0mself\u001b[0m\u001b[1;33m.\u001b[0m\u001b[0mix\u001b[0m\u001b[1;33m.\u001b[0m\u001b[0m_convert_to_indexer\u001b[0m\u001b[1;33m(\u001b[0m\u001b[0mkey\u001b[0m\u001b[1;33m,\u001b[0m \u001b[0maxis\u001b[0m\u001b[1;33m=\u001b[0m\u001b[1;36m1\u001b[0m\u001b[1;33m)\u001b[0m\u001b[1;33m\u001b[0m\u001b[0m\n\u001b[0m\u001b[1;32m   2098\u001b[0m             \u001b[1;32mreturn\u001b[0m \u001b[0mself\u001b[0m\u001b[1;33m.\u001b[0m\u001b[0mtake\u001b[0m\u001b[1;33m(\u001b[0m\u001b[0mindexer\u001b[0m\u001b[1;33m,\u001b[0m \u001b[0maxis\u001b[0m\u001b[1;33m=\u001b[0m\u001b[1;36m1\u001b[0m\u001b[1;33m,\u001b[0m \u001b[0mconvert\u001b[0m\u001b[1;33m=\u001b[0m\u001b[0mTrue\u001b[0m\u001b[1;33m)\u001b[0m\u001b[1;33m\u001b[0m\u001b[0m\n\u001b[1;32m   2099\u001b[0m \u001b[1;33m\u001b[0m\u001b[0m\n",
      "\u001b[0;32mc:\\python27\\lib\\site-packages\\pandas\\core\\indexing.pyc\u001b[0m in \u001b[0;36m_convert_to_indexer\u001b[0;34m(self, obj, axis, is_setter)\u001b[0m\n\u001b[1;32m   1227\u001b[0m                 \u001b[0mmask\u001b[0m \u001b[1;33m=\u001b[0m \u001b[0mcheck\u001b[0m \u001b[1;33m==\u001b[0m \u001b[1;33m-\u001b[0m\u001b[1;36m1\u001b[0m\u001b[1;33m\u001b[0m\u001b[0m\n\u001b[1;32m   1228\u001b[0m                 \u001b[1;32mif\u001b[0m \u001b[0mmask\u001b[0m\u001b[1;33m.\u001b[0m\u001b[0many\u001b[0m\u001b[1;33m(\u001b[0m\u001b[1;33m)\u001b[0m\u001b[1;33m:\u001b[0m\u001b[1;33m\u001b[0m\u001b[0m\n\u001b[0;32m-> 1229\u001b[0;31m                     \u001b[1;32mraise\u001b[0m \u001b[0mKeyError\u001b[0m\u001b[1;33m(\u001b[0m\u001b[1;34m'%s not in index'\u001b[0m \u001b[1;33m%\u001b[0m \u001b[0mobjarr\u001b[0m\u001b[1;33m[\u001b[0m\u001b[0mmask\u001b[0m\u001b[1;33m]\u001b[0m\u001b[1;33m)\u001b[0m\u001b[1;33m\u001b[0m\u001b[0m\n\u001b[0m\u001b[1;32m   1230\u001b[0m \u001b[1;33m\u001b[0m\u001b[0m\n\u001b[1;32m   1231\u001b[0m                 \u001b[1;32mreturn\u001b[0m \u001b[0m_values_from_object\u001b[0m\u001b[1;33m(\u001b[0m\u001b[0mindexer\u001b[0m\u001b[1;33m)\u001b[0m\u001b[1;33m\u001b[0m\u001b[0m\n",
      "\u001b[0;31mKeyError\u001b[0m: '[ 10.12458386   9.92951601   9.92787085 ...,   5.26592607   6.89824561\\n   5.79735362] not in index'"
     ]
    }
   ],
   "source": [
    "import pandas as pd\n",
    "import numpy as np\n",
    "import requests\n",
    "import json\n",
    "from pymongo import MongoClient\n",
    "from math import radians, cos, sin, asin, sqrt\n",
    "\n",
    "mac = [[126.9573779, 37.5048875] , [127.057799, 37.5781547] , [127.0403004, 37.5237111] , [127.1450999, 37.535504] \n",
    "       , [126.890246, 37.5070488] , [126.8837403, 37.4813743] , [126.9247425, 37.5799351] , [126.9219911, 37.5550516] , \n",
    "       [126.9971186, 37.4816832] , [126.9167249, 37.610645] , [126.9896979, 37.5337918] , [127.0827868, 37.5114403] , \n",
    "       [126.9568983, 37.4951199] , [126.8863946, 37.4786447] , [126.9795003, 37.5668114] , [127.093618, 37.5964905] ,\n",
    "       [127.099686, 37.5150646] , [127.0219151, 37.5174591] , [127.0551845, 37.4973625] , [127.0354138, 37.4824463] ,\n",
    "       [126.9522376, 37.4805756] , [126.9814064, 37.4749964] , [127.0396022, 37.4780974] , [127.0947354, 37.6064619] , \n",
    "       [126.862982, 37.5155177] , [126.8810367, 37.5371922] , [127.0336221, 37.5621814] , [126.9846356, 37.5605759] , \n",
    "       [126.8935069, 37.5310483] , [127.0217344, 37.6181296] , [126.8949784, 37.4852224] , [127.0620773, 37.6483302] , \n",
    "       [127.0413425, 37.5162698] , [127.06186, 37.4923541] , [126.9717326, 37.5548376] , [127.1226206, 37.5303395] , \n",
    "       [127.0162122, 37.4940404] , [127.0380777, 37.4975843] , [127.0450344, 37.5802009] , [127.0306262, 37.4901922] ,\n",
    "       [126.8884274, 37.5083236] , [126.9805464, 37.4844639] , [126.8824261, 37.5013912] , [127.007025, 37.5103488] , \n",
    "       [126.930196, 37.4819652] , [127.0020996, 37.5829073] , [127.0269961, 37.5003928] , [126.9194208, 37.6272909] ,\n",
    "       [126.8810069, 37.4802295] , [127.0619147, 37.5958872] , [127.0452573, 37.6211527] , [127.0588074, 37.5083321] , \n",
    "       [126.9904813, 37.5706077] , [126.8373406, 37.5450958] , [126.8715672, 37.5476522] , [126.9097173, 37.5560628] , [127.0419382, 37.5572348] , [126.9026344, 37.4505344] , [127.076168, 37.6297532] , [126.9367251, 37.5585928] , [127.0726628, 37.5725354] , [127.0526858, 37.5924181] , [126.9371633, 37.55569] , [127.0288796, 37.5246] , [127.0097246, 37.4862395] , [127.0305413, 37.5135684] , [127.0470548, 37.5035413] , [127.0174822, 37.5924715] , [127.1308152, 37.4949003] , [127.1753478, 37.5498037] , [126.9016607, 37.5344674] , [127.0561803, 37.6724331] , [127.0261498, 37.6380281] , [126.9429035, 37.5902797] , [126.8635145, 37.4972395] , [127.0535218, 37.5399353] , [126.9248643, 37.5251815] , [127.0791634, 37.6017866] , [127.1279245, 37.5503956] , [126.8308779, 37.5314234] , [127.0075428, 37.5894108] , [127.0262046, 37.626957] , [126.9205342, 37.6008414] , [126.8387402, 37.5197288] , [126.98422, 37.5725944] , [126.8097048, 37.5617466] , [127.0292764, 37.5844107] , [127.0845, 37.5364389] , [127.0731466, 37.5473126] , [126.907662, 37.5169943] , [126.9472047, 37.5412253] , [127.0769886, 37.5043489] , [127.0287553, 37.4986859] , [126.9530766, 37.5474066] , [126.943535, 37.5134312] , [127.1430033, 37.5472637] , [126.9846809, 37.564227] , [126.9988817, 37.5834143] , [127.075488, 37.5934898] , [126.9843663, 37.5763158] , [127.0304103, 37.6133166] , [127.1251713, 37.5387396] , [127.0433298, 37.6701632] , [126.8637755, 37.5281307] , [126.9200103, 37.5003258] , [127.13728, 37.5293384] , [126.9133017, 37.5491657] , [127.0689352, 37.6366485] , [127.10915, 37.5060079] , [127.0609054, 37.5102604] , [127.0372221, 37.6536447] , [127.0760144, 37.6508538] ,\n",
    "       [126.9192624, 37.6176506] , [126.8597671, 37.5582961] , [127.0360251, 37.59578] , [126.9700799, 37.5685872]]\n",
    "class Df_converter(object):\n",
    "    \n",
    "  \n",
    "    def __init__(self):\n",
    "        mongo = MongoClient('ec2-54-149-149-184.us-west-2.compute.amazonaws.com', 27017)\n",
    "        database = mongo.dabang.room_db2\n",
    "        df = pd.DataFrame(list(database.find()))\n",
    "        df['aircondition'] = pd.Series( 1 if 0 in i   else 0 for i in df.room_options  )\n",
    "        df['laundry'] = pd.Series( 1 if 1 in i   else 0 for i in df.room_options  )\n",
    "        df['bed'] = pd.Series( 1 if 2 in i   else 0 for i in df.room_options  )\n",
    "        df['desk'] = pd.Series( 1 if 3 in i   else 0 for i in df.room_options  )\n",
    "        df['closet'] = pd.Series( 1 if 4 in i   else 0 for i in df.room_options  )\n",
    "        df['tv'] = pd.Series( 1 if 5 in i   else 0 for i in df.room_options  )\n",
    "        df['shoes'] = pd.Series( 1 if 6 in i   else 0 for i in df.room_options  )\n",
    "        df['refrigerator'] = pd.Series( 1 if 7 in i   else 0 for i in df.room_options  )\n",
    "        df['gas'] = pd.Series( 1 if 8 in i   else 0 for i in df.room_options  )\n",
    "        df['induction'] = pd.Series( 1 if 9 in i   else 0 for i in df.room_options  )\n",
    "        df['microwave'] = pd.Series( 1 if 10 in i   else 0 for i in df.room_options  )\n",
    "        df['doar_lock'] = pd.Series( 1 if 11 in i   else 0 for i in df.room_options  )\n",
    "        df['biddet'] = pd.Series( 1 if 12 in i   else 0 for i in df.room_options  )\n",
    "        df = df[(df.room_type!=u'아파트') & (df.room_type!=u'쓰리룸')] \n",
    "        df = df.drop_duplicates('id')\n",
    "        df = df.drop('_id',1)\n",
    "        self.df = df\n",
    "        self.loc=np.asarray(df['loc']).reshape(-1,1)\n",
    "     \n",
    "    \n",
    "    def location_point(self,lst):\n",
    "        loc_list = []\n",
    "        for depart in lst: \n",
    "            print 'wow'\n",
    "            try:\n",
    "                naverurl =  'https://openapi.naver.com/v1/map/geocode?encoding=utf-8&coord=latlng&output=json&query={}'.format(depart)\n",
    "                headers = {}\n",
    "                headers['X-Naver-Client-Id'] =  'fMc7n_JcnZoItjRY0HHp'\n",
    "                headers['X-Naver-Client-Secret'] = 'agQGiCxnNF'\n",
    "                res = requests.get(naverurl, headers = headers)\n",
    "                jsonf = json.loads(res.content)\n",
    "                loc_list.append([float(jsonf['result']['items'][0]['point']['x']),float(jsonf['result']['items'][0]['point']['y']) ])\n",
    "            except: \n",
    "                continue\n",
    "        return loc_list\n",
    "        \n",
    "    def d_to_places(self,loc_lst):\n",
    "        \n",
    "        def dist_places(x):\n",
    "            z = []\n",
    "            for i in range(len(loc_lst)):\n",
    "                lon1, lat1, lon2, lat2 = map(radians, [x[0][0], x[0][1], loc_lst[i][0], loc_lst[i][1]])\n",
    "                dlon = lon2 - lon1 \n",
    "                dlat = lat2 - lat1 \n",
    "                a = sin(dlat/2)**2 + cos(lat1) * cos(lat2) * sin(dlon/2)**2\n",
    "                c = 2 * asin(sqrt(a)) \n",
    "                km = 6367 * c\n",
    "                z.append(km)\n",
    "            return min(z)\n",
    "        return np.apply_along_axis(dist_places,1,self.loc)\n",
    "\n",
    "    def d_to_park(self):\n",
    "        \n",
    "        park = [[126.8141241,37.5876169], [126.8979808,37.5397924], [126.9939698,37.5102684], [127.0165227,37.5272945], [127.081523,37.5179568]\n",
    "                 ,[127.1194287,37.5499881],[126.8721985,37.5649224],  [126.8986955,37.555875], [126.9736383,37.5159618], [127.0691564,37.5291008]]\n",
    "\n",
    "        def dist_park(x):\n",
    "            z = []\n",
    "            for i in range(len(park)):\n",
    "                lon1, lat1, lon2, lat2 = map(radians, [x[0][0], x[0][1], park[i][0], park[i][1]])\n",
    "                dlon = lon2 - lon1 \n",
    "                dlat = lat2 - lat1 \n",
    "                a = sin(dlat/2)**2 + cos(lat1) * cos(lat2) * sin(dlon/2)**2\n",
    "                c = 2 * asin(sqrt(a)) \n",
    "                km = 6367 * c\n",
    "                z.append(km)\n",
    "            return min(z)\n",
    "        return np.apply_along_axis(dist_park,1,self.loc)\n",
    "        \n",
    "  \n",
    "\n",
    "    def d_to_myoungdong(self):\n",
    "        def dist_myongdong(x):\n",
    "            lon1, lat1, lon2, lat2 = map(radians, [x[0][0], x[0][1],126.9653337,37.5634056])\n",
    "            dlon = lon2 - lon1 \n",
    "            dlat = lat2 - lat1 \n",
    "            a = sin(dlat/2)**2 + cos(lat1) * cos(lat2) * sin(dlon/2)**2\n",
    "            c = 2 * asin(sqrt(a)) \n",
    "            km = 6367 * c\n",
    "            return km\n",
    "        return np.apply_along_axis(dist_myongdong,1,self.loc)\n",
    "    \n",
    "    \n",
    "    def d_to_gangnam(self):    \n",
    "        def dist_gangnam(x):\n",
    "            lon1, lat1, lon2, lat2 = map(radians, [x[0][0], x[0][1],127.0083444,37.5002943])\n",
    "            dlon = lon2 - lon1 \n",
    "            dlat = lat2 - lat1 \n",
    "            a = sin(dlat/2)**2 + cos(lat1) * cos(lat2) * sin(dlon/2)**2\n",
    "            c = 2 * asin(sqrt(a)) \n",
    "            km = 6367 * c\n",
    "            return km\n",
    "        return np.apply_along_axis(dist_gangnam,1,self.loc)\n",
    "    def d_to_starbucks(self):\n",
    "        mongo = MongoClient('ec2-54-149-149-184.us-west-2.compute.amazonaws.com', 27017)\n",
    "        starbucksloc = mongo.dabnag.star_json\n",
    "        starloc = starbucksloc.aggregate([{'$group':{'_id':'$json.result.items'}},{'$group':{'_id':'$_id.point'}}])\n",
    "        starlst =[]\n",
    "        for i in starloc:\n",
    "            try:\n",
    "                starlst.append([i['_id'][0]['x'],i['_id'][0]['y']])\n",
    "            except:\n",
    "                continue\n",
    "        return self.d_to_places(starlst)\n",
    "test_df = Df_converter()\n",
    "df = test_df.df\n",
    "fancy_places = test_df.location_point(['서울특별시 중구 남대문로 81','서울특별시 송파구 올림픽로 300','서울특별시 강남구 압구정로 343'])\n",
    "df['d_to_fancy'] = test_df.d_to_places(fancy_places)\n",
    "df['park'] = test_df.d_to_park()\n",
    "df['distance_gn'] = test_df.d_to_gangnam()\n",
    "df['distance_md']= test_df.d_to_myoungdong()\n",
    "df['d_to_mac'] = test_df.d_to_places(mac)\n",
    "df['star_bucks'] = test_df.d_to_starbucks()\n",
    "\n",
    "df = df.reset_index()"
   ]
  },
  {
   "cell_type": "code",
   "execution_count": 17,
   "metadata": {
    "collapsed": false
   },
   "outputs": [],
   "source": [
    "population = pd.read_csv('population.csv',encoding = 'euc-kr')\n",
    "population['population'] = [ int(''.join(i.split(','))) for i in population['population']]\n",
    "population['elder'] = [ int(''.join(i.split(','))) for i in population['elder']]\n",
    "\n",
    "popdict = {}\n",
    "elderdict ={}\n",
    "for i in range(len(population)):\n",
    "    address= u'서울특별시'+' '+ population.ix[i,:]['district'] + ' ' + population.ix[i,:]['dong']\n",
    "    popdict[address ] = population.ix[i,:]['population']\n",
    "    elderdict[address]= population.ix[i,:]['elder']\n",
    "def seriesfind(s, el):\n",
    "    for i in s.index:\n",
    "        if s[i] == el: \n",
    "            return i\n",
    "    return None\n",
    "import re\n",
    "datas = set(df['address']) - set(popdict.keys())\n",
    "for i in datas:\n",
    "    lst =  re.findall('(.+)\\d',i)\n",
    "    try:\n",
    "        addr = lst[0]\n",
    "    except:\n",
    "        continue\n",
    "    if addr in popdict.keys():\n",
    "        idx = seriesfind(df['address'],addr)\n",
    "        df['address'][idx] = addr\n",
    "pop_mean = {}\n",
    "elder_mean = {}\n",
    "popmeandf = population.groupby(['district']).mean()\n",
    "population_address = []\n",
    "elder_address =[]\n",
    "j = 0\n",
    "for i in df['address']:\n",
    "    j = j + 1\n",
    "    if j==len(df['address']):\n",
    "        break\n",
    "    try:\n",
    "        population_address.append(popdict[i])\n",
    "        elder_address.append(elderdict[i])\n",
    "    except:\n",
    "        districtlst = i.split()\n",
    "        try:\n",
    "            population_address.append(popmeandf.loc[districtlst[1]]['population'])\n",
    "            elder_address.append(popmeandf.loc[districtlst[1]]['elder'])\n",
    "        except:\n",
    "            population_address.append(np.mean(np.mean(popdict.values())))\n",
    "            elder_address.append(np.mean(np.mean(elderdict.values())))\n",
    "\n",
    "df['population'] = population_address\n",
    "df['elder'] = elder_address\n",
    "df['elder_ratio'] = np.asarray(df['elder'])/np.asarray(df['population'])"
   ]
  },
  {
   "cell_type": "code",
   "execution_count": 20,
   "metadata": {
    "collapsed": false
   },
   "outputs": [],
   "source": [
    "bank = pd.read_csv('bank.csv',encoding = 'euc-kr')\n",
    "bank['totalbanks'] = [ int(i) for i in bank['totalbanks']]\n",
    "\n",
    "bankdict = {}\n",
    "def change_add(df,key,emptydict):\n",
    "    for i in range(len(df)):\n",
    "        address= u'서울특별시'+' '+ df.ix[i,:]['district'] + ' ' + df.ix[i,:]['dong']\n",
    "        emptydict[address ] = df.ix[i,:][key]\n",
    "    return emptydict\n",
    "bankdict = change_add(bank,'totalbanks',{})\n",
    "import re\n",
    "datas = set(df['address']) - set(bankdict.keys())\n",
    "for i in datas:\n",
    "    lst =  re.findall('(.+)\\d',i)\n",
    "    try:\n",
    "        addr = lst[0]\n",
    "    except:\n",
    "        continue\n",
    "    if addr in bankdict.keys():\n",
    "        idx = seriesfind(df['address'],addr)\n",
    "        df['address'][idx] = addr\n",
    "bankmeandf = bank.groupby(['district']).mean()\n",
    "totalbanks = []\n",
    "j = 0\n",
    "for i in df['address']:\n",
    "    j = j + 1\n",
    "    if j > len(df) :\n",
    "        break\n",
    "    try:\n",
    "        totalbanks.append(bankdict[i])\n",
    "    except:\n",
    "        districtlst = i.split()\n",
    "        try:\n",
    "            totalbanks.append(bankmeandf.loc[districtlst[1]]['totalbanks'])\n",
    "        except:\n",
    "            totalbanks.append(np.mean(bankdict.values()))\n",
    "df['totalbanks'] = totalbanks\n",
    "df['bank_ratio'] = np.asarray(df['totalbanks'])/np.asarray(df['population'])"
   ]
  },
  {
   "cell_type": "code",
   "execution_count": 30,
   "metadata": {
    "collapsed": false
   },
   "outputs": [],
   "source": [
    "df.to_csv('finalcsv.csv',encoding = 'utf-8')\n",
    "    "
   ]
  },
  {
   "cell_type": "code",
   "execution_count": 5,
   "metadata": {
    "collapsed": false
   },
   "outputs": [],
   "source": [
    "df.to_csv('added_final.csv',encoding='utf-8')"
   ]
  },
  {
   "cell_type": "code",
   "execution_count": 1,
   "metadata": {
    "collapsed": false
   },
   "outputs": [],
   "source": [
    "import pandas as pd\n",
    "df = pd.read_csv('./added_final.csv')\n",
    "df['room_type'] = pd.Series(df.room_type,dtype = 'category')"
   ]
  },
  {
   "cell_type": "code",
   "execution_count": 2,
   "metadata": {
    "collapsed": false
   },
   "outputs": [],
   "source": [
    "from sklearn.cross_validation import train_test_split\n",
    "train_df, test_df = train_test_split(df,test_size=0.25,random_state=0)\n",
    "\n"
   ]
  },
  {
   "cell_type": "code",
   "execution_count": 3,
   "metadata": {
    "collapsed": false
   },
   "outputs": [],
   "source": [
    "train_features = train_df[\n",
    "    [u'd_to_fancy', u'distance_gn', u'shoes', u'metro_count', u'microwave', u'parking', u'd_to_conv', 'room_floor', u'building_floor',\n",
    "     u'd_to_bank', 'totalbanks', u'closet', u'tv', 'elder_ratio', u'distance_md', u'doar_lock', u'elevator', u'animal', u'star_bucks', \n",
    "     u'induction', u'laundry', u'room_size', u'park', u'gas', u'd_to_mac', u'desk', u'd_to_metro',\n",
    "     u'refrigerator', u'd_to_coffe', u'bed', u'aircondition', u'biddet', u'room_type']]\n",
    "test_features = test_df[ [u'd_to_fancy', u'distance_gn', u'shoes', u'metro_count', u'microwave', u'parking', u'd_to_conv', 'room_floor', u'building_floor',\n",
    "     u'd_to_bank', 'totalbanks', u'closet', u'tv', 'elder_ratio', u'distance_md', u'doar_lock', u'elevator', u'animal', u'star_bucks', \n",
    "     u'induction', u'laundry', u'room_size', u'park', u'gas', u'd_to_mac', u'desk', u'd_to_metro',\n",
    "     u'refrigerator', u'd_to_coffe', u'bed', u'aircondition', u'biddet', u'room_type']]\n",
    "train_price = train_df['price']\n",
    "test_price = test_df['price']"
   ]
  },
  {
   "cell_type": "code",
   "execution_count": 23,
   "metadata": {
    "collapsed": false,
    "scrolled": true
   },
   "outputs": [
    {
     "data": {
      "image/png": "[encoded data removed]",
      "text/plain": [
       "<matplotlib.figure.Figure at 0xab03fb0>"
      ]
     },
     "execution_count": 23,
     "metadata": {},
     "output_type": "execute_result"
    },
    {
     "data": {
      "image/png": "[encoded data removed]",
      "text/plain": [
       "<matplotlib.figure.Figure at 0xac8e350>"
      ]
     },
     "metadata": {},
     "output_type": "display_data"
    },
    {
     "data": {
      "image/png": "[encoded data removed]",
      "text/plain": [
       "<matplotlib.figure.Figure at 0xab03fb0>"
      ]
     },
     "metadata": {},
     "output_type": "display_data"
    }
   ],
   "source": [
    "import statsmodels.api as sm\n",
    "import numpy as np\n",
    "import scipy as sp\n",
    "\n",
    "boxcox = sp.stats.boxcox(train_df.price, -0.5)\n",
    "plt.hold(True)\n",
    "sm.graphics.qqplot(boxcox,fit=True,line = '45')"
   ]
  },
  {
   "cell_type": "code",
   "execution_count": 25,
   "metadata": {
    "collapsed": false
   },
   "outputs": [],
   "source": [
    "from sklearn.ensemble import ExtraTreesClassifier,RandomForestRegressor\n",
    "forest = RandomForestRegressor(n_estimators=250, random_state=0)\n",
    "\n",
    "float_datawithprice = train_df[[  u'building_floor', u'd_to_bank', u'd_to_coffe', u'd_to_conv',\n",
    "       u'd_to_metro',u'metro_count', 'room_floor', u'room_size' ,u'd_to_fancy', u'park', u'distance_gn', u'distance_md', u'd_to_mac', \n",
    "        u'star_bucks',\n",
    "        u'elder_ratio', u'totalbanks','price']].dropna()\n",
    "float_dataprice = float_datawithprice['price']\n",
    "float_features = float_datawithprice.drop('price',axis =1)\n",
    "forest.fit(float_features, np.log(float_dataprice))\n",
    "\n",
    "importances = forest.feature_importances_"
   ]
  },
  {
   "cell_type": "code",
   "execution_count": 26,
   "metadata": {
    "collapsed": false
   },
   "outputs": [
    {
     "data": {
      "image/png": "[encoded data removed]",
      "text/plain": [
       "<matplotlib.figure.Figure at 0xa96db10>"
      ]
     },
     "metadata": {},
     "output_type": "display_data"
    }
   ],
   "source": [
    "import seaborn as sns\n",
    "import matplotlib.pylab as plt\n",
    "plt.figure(figsize=(20,10))\n",
    "sns.barplot(float_features.columns, importances)\n",
    "plt.show()"
   ]
  },
  {
   "cell_type": "code",
   "execution_count": null,
   "metadata": {
    "collapsed": false
   },
   "outputs": [],
   "source": [
    "import statsmodels.api as sm\n",
    "sm.OLS.from_formula('''boxcox~scale(room_size)+scale(elder_ratio)+d_to_fancy+np.log(building_floor)+scale(room_floor)+C(room_type)+scale(star_bucks)+induction+scale(distance_gn)+park+animal''',train_df).fit().summary()"
   ]
  },
  {
   "cell_type": "code",
   "execution_count": 21,
   "metadata": {
    "collapsed": false
   },
   "outputs": [
    {
     "data": {
      "image/png": "[encoded data removed]",
      "text/plain": [
       "<matplotlib.figure.Figure at 0xceb7f90>"
      ]
     },
     "metadata": {},
     "output_type": "display_data"
    }
   ],
   "source": [
    "model = sm.OLS.from_formula('''np.log(price)~scale(room_size)+scale(elder_ratio)+d_to_fancy+scale(building_floor)+scale(room_floor)+C(room_type)+scale(star_bucks)+induction+scale(distance_gn)+induction+park+animal''',train_df).fit()\n",
    "sm.graphics.influence_plot(model, plot_alpha=0.3)\n",
    "plt.show()\n"
   ]
  },
  {
   "cell_type": "code",
   "execution_count": 22,
   "metadata": {
    "collapsed": true
   },
   "outputs": [],
   "source": [
    "train_df = train_df.drop(train_df.index[[1798,1725]])"
   ]
  },
  {
   "cell_type": "code",
   "execution_count": 23,
   "metadata": {
    "collapsed": true
   },
   "outputs": [],
   "source": [
    "train_features = train_df[\n",
    "    [u'd_to_fancy', u'distance_gn', u'shoes', u'metro_count', u'microwave', u'parking', u'd_to_conv', 'room_floor', u'building_floor',\n",
    "     u'd_to_bank', 'totalbanks', u'closet', u'tv', 'elder_ratio', u'distance_md', u'doar_lock', u'elevator', u'animal', u'star_bucks', \n",
    "     u'induction', u'laundry', u'room_size', u'park', u'gas', u'd_to_mac', u'desk', u'd_to_metro',\n",
    "     u'refrigerator', u'd_to_coffe', u'bed', u'aircondition', u'biddet', u'room_type']]\n",
    "test_features = test_df[ [u'd_to_fancy', u'distance_gn', u'shoes', u'metro_count', u'microwave', u'parking', u'd_to_conv', 'room_floor', u'building_floor',\n",
    "     u'd_to_bank', 'totalbanks', u'closet', u'tv', 'elder_ratio', u'distance_md', u'doar_lock', u'elevator', u'animal', u'star_bucks', \n",
    "     u'induction', u'laundry', u'room_size', u'park', u'gas', u'd_to_mac', u'desk', u'd_to_metro',\n",
    "     u'refrigerator', u'd_to_coffe', u'bed', u'aircondition', u'biddet', u'room_type']]\n",
    "train_price = train_df['price']\n",
    "test_price = test_df['price']"
   ]
  },
  {
   "cell_type": "code",
   "execution_count": 24,
   "metadata": {
    "collapsed": false
   },
   "outputs": [
    {
     "data": {
      "text/html": [
       "<table class=\"simpletable\">\n",
       "<caption>OLS Regression Results</caption>\n",
       "<tr>\n",
       "  <th>Dep. Variable:</th>      <td>np.log(price)</td>  <th>  R-squared:         </th> <td>   0.565</td>\n",
       "</tr>\n",
       "<tr>\n",
       "  <th>Model:</th>                   <td>OLS</td>       <th>  Adj. R-squared:    </th> <td>   0.564</td>\n",
       "</tr>\n",
       "<tr>\n",
       "  <th>Method:</th>             <td>Least Squares</td>  <th>  F-statistic:       </th> <td>   507.8</td>\n",
       "</tr>\n",
       "<tr>\n",
       "  <th>Date:</th>             <td>Fri, 28 Oct 2016</td> <th>  Prob (F-statistic):</th>  <td>  0.00</td> \n",
       "</tr>\n",
       "<tr>\n",
       "  <th>Time:</th>                 <td>10:30:12</td>     <th>  Log-Likelihood:    </th> <td> -861.08</td>\n",
       "</tr>\n",
       "<tr>\n",
       "  <th>No. Observations:</th>      <td>  5104</td>      <th>  AIC:               </th> <td>   1750.</td>\n",
       "</tr>\n",
       "<tr>\n",
       "  <th>Df Residuals:</th>          <td>  5090</td>      <th>  BIC:               </th> <td>   1842.</td>\n",
       "</tr>\n",
       "<tr>\n",
       "  <th>Df Model:</th>              <td>    13</td>      <th>                     </th>     <td> </td>   \n",
       "</tr>\n",
       "<tr>\n",
       "  <th>Covariance Type:</th>      <td>nonrobust</td>    <th>                     </th>     <td> </td>   \n",
       "</tr>\n",
       "</table>\n",
       "<table class=\"simpletable\">\n",
       "<tr>\n",
       "                <td></td>                  <th>coef</th>     <th>std err</th>      <th>t</th>      <th>P>|t|</th> <th>[95.0% Conf. Int.]</th> \n",
       "</tr>\n",
       "<tr>\n",
       "  <th>Intercept</th>                    <td>    8.9776</td> <td>    0.019</td> <td>  466.078</td> <td> 0.000</td> <td>    8.940     9.015</td>\n",
       "</tr>\n",
       "<tr>\n",
       "  <th>C(room_type)[T.오피스텔]</th> <td>   -0.0998</td> <td>    0.025</td> <td>   -4.014</td> <td> 0.000</td> <td>   -0.148    -0.051</td>\n",
       "</tr>\n",
       "<tr>\n",
       "  <th>C(room_type)[T.원룸]</th>       <td>   -0.1029</td> <td>    0.016</td> <td>   -6.555</td> <td> 0.000</td> <td>   -0.134    -0.072</td>\n",
       "</tr>\n",
       "<tr>\n",
       "  <th>C(room_type)[T.투룸]</th>       <td>    0.1782</td> <td>    0.019</td> <td>    9.524</td> <td> 0.000</td> <td>    0.142     0.215</td>\n",
       "</tr>\n",
       "<tr>\n",
       "  <th>animal[T.True]</th>               <td>   -0.0616</td> <td>    0.014</td> <td>   -4.520</td> <td> 0.000</td> <td>   -0.088    -0.035</td>\n",
       "</tr>\n",
       "<tr>\n",
       "  <th>scale(room_size)</th>             <td>    0.1847</td> <td>    0.007</td> <td>   27.284</td> <td> 0.000</td> <td>    0.171     0.198</td>\n",
       "</tr>\n",
       "<tr>\n",
       "  <th>scale(elder_ratio)</th>           <td>    0.0195</td> <td>    0.005</td> <td>    3.687</td> <td> 0.000</td> <td>    0.009     0.030</td>\n",
       "</tr>\n",
       "<tr>\n",
       "  <th>d_to_fancy</th>                   <td>   -0.0231</td> <td>    0.002</td> <td>  -13.626</td> <td> 0.000</td> <td>   -0.026    -0.020</td>\n",
       "</tr>\n",
       "<tr>\n",
       "  <th>scale(building_floor)</th>        <td>    0.0496</td> <td>    0.007</td> <td>    7.149</td> <td> 0.000</td> <td>    0.036     0.063</td>\n",
       "</tr>\n",
       "<tr>\n",
       "  <th>scale(room_floor)</th>            <td>    0.0866</td> <td>    0.006</td> <td>   14.054</td> <td> 0.000</td> <td>    0.075     0.099</td>\n",
       "</tr>\n",
       "<tr>\n",
       "  <th>scale(star_bucks)</th>            <td>   -0.0600</td> <td>    0.005</td> <td>  -11.381</td> <td> 0.000</td> <td>   -0.070    -0.050</td>\n",
       "</tr>\n",
       "<tr>\n",
       "  <th>induction</th>                    <td>    0.1497</td> <td>    0.010</td> <td>   15.750</td> <td> 0.000</td> <td>    0.131     0.168</td>\n",
       "</tr>\n",
       "<tr>\n",
       "  <th>scale(distance_gn)</th>           <td>    0.0276</td> <td>    0.005</td> <td>    5.693</td> <td> 0.000</td> <td>    0.018     0.037</td>\n",
       "</tr>\n",
       "<tr>\n",
       "  <th>park</th>                         <td>   -0.0212</td> <td>    0.002</td> <td>   -8.598</td> <td> 0.000</td> <td>   -0.026    -0.016</td>\n",
       "</tr>\n",
       "</table>\n",
       "<table class=\"simpletable\">\n",
       "<tr>\n",
       "  <th>Omnibus:</th>       <td>142.976</td> <th>  Durbin-Watson:     </th> <td>   2.051</td>\n",
       "</tr>\n",
       "<tr>\n",
       "  <th>Prob(Omnibus):</th> <td> 0.000</td>  <th>  Jarque-Bera (JB):  </th> <td> 252.507</td>\n",
       "</tr>\n",
       "<tr>\n",
       "  <th>Skew:</th>          <td> 0.232</td>  <th>  Prob(JB):          </th> <td>1.47e-55</td>\n",
       "</tr>\n",
       "<tr>\n",
       "  <th>Kurtosis:</th>      <td> 3.986</td>  <th>  Cond. No.          </th> <td>    72.7</td>\n",
       "</tr>\n",
       "</table>"
      ],
      "text/plain": [
       "<class 'statsmodels.iolib.summary.Summary'>\n",
       "\"\"\"\n",
       "                            OLS Regression Results                            \n",
       "==============================================================================\n",
       "Dep. Variable:          np.log(price)   R-squared:                       0.565\n",
       "Model:                            OLS   Adj. R-squared:                  0.564\n",
       "Method:                 Least Squares   F-statistic:                     507.8\n",
       "Date:                Fri, 28 Oct 2016   Prob (F-statistic):               0.00\n",
       "Time:                        10:30:12   Log-Likelihood:                -861.08\n",
       "No. Observations:                5104   AIC:                             1750.\n",
       "Df Residuals:                    5090   BIC:                             1842.\n",
       "Df Model:                          13                                         \n",
       "Covariance Type:            nonrobust                                         \n",
       "================================================================================================\n",
       "                                   coef    std err          t      P>|t|      [95.0% Conf. Int.]\n",
       "------------------------------------------------------------------------------------------------\n",
       "Intercept                        8.9776      0.019    466.078      0.000         8.940     9.015\n",
       "C(room_type)[T.오피스텔]    -0.0998      0.025     -4.014      0.000        -0.148    -0.051\n",
       "C(room_type)[T.원룸]          -0.1029      0.016     -6.555      0.000        -0.134    -0.072\n",
       "C(room_type)[T.투룸]           0.1782      0.019      9.524      0.000         0.142     0.215\n",
       "animal[T.True]                  -0.0616      0.014     -4.520      0.000        -0.088    -0.035\n",
       "scale(room_size)                 0.1847      0.007     27.284      0.000         0.171     0.198\n",
       "scale(elder_ratio)               0.0195      0.005      3.687      0.000         0.009     0.030\n",
       "d_to_fancy                      -0.0231      0.002    -13.626      0.000        -0.026    -0.020\n",
       "scale(building_floor)            0.0496      0.007      7.149      0.000         0.036     0.063\n",
       "scale(room_floor)                0.0866      0.006     14.054      0.000         0.075     0.099\n",
       "scale(star_bucks)               -0.0600      0.005    -11.381      0.000        -0.070    -0.050\n",
       "induction                        0.1497      0.010     15.750      0.000         0.131     0.168\n",
       "scale(distance_gn)               0.0276      0.005      5.693      0.000         0.018     0.037\n",
       "park                            -0.0212      0.002     -8.598      0.000        -0.026    -0.016\n",
       "==============================================================================\n",
       "Omnibus:                      142.976   Durbin-Watson:                   2.051\n",
       "Prob(Omnibus):                  0.000   Jarque-Bera (JB):              252.507\n",
       "Skew:                           0.232   Prob(JB):                     1.47e-55\n",
       "Kurtosis:                       3.986   Cond. No.                         72.7\n",
       "==============================================================================\n",
       "\n",
       "Warnings:\n",
       "[1] Standard Errors assume that the covariance matrix of the errors is correctly specified.\n",
       "\"\"\""
      ]
     },
     "execution_count": 24,
     "metadata": {},
     "output_type": "execute_result"
    }
   ],
   "source": [
    "sm.OLS.from_formula('''np.log(price)~scale(room_size)+scale(elder_ratio)+d_to_fancy+scale(building_floor)+scale(room_floor)+C(room_type)+scale(star_bucks)+induction+scale(distance_gn)+park+animal''',train_df).fit().summary()"
   ]
  },
  {
   "cell_type": "code",
   "execution_count": 452,
   "metadata": {
    "collapsed": false
   },
   "outputs": [],
   "source": []
  },
  {
   "cell_type": "code",
   "execution_count": 5,
   "metadata": {
    "collapsed": false
   },
   "outputs": [
    {
     "name": "stderr",
     "output_type": "stream",
     "text": [
      "c:\\python27\\lib\\site-packages\\sklearn\\preprocessing\\label.py:125: DataConversionWarning: A column-vector y was passed when a 1d array was expected. Please change the shape of y to (n_samples, ), for example using ravel().\n",
      "  y = column_or_1d(y, warn=True)\n"
     ]
    },
    {
     "data": {
      "text/plain": [
       "-0.56085191607922091"
      ]
     },
     "execution_count": 5,
     "metadata": {},
     "output_type": "execute_result"
    }
   ],
   "source": [
    "from sklearn.preprocessing import Imputer\n",
    "import numpy as np\n",
    "from sklearn.cross_validation import cross_val_score\n",
    "from sklearn.linear_model import LinearRegression\n",
    "imp = Imputer(missing_values='NaN', strategy='mean', axis=0)\n",
    "from sklearn.linear_model import LinearRegression\n",
    "from sklearn.pipeline import make_pipeline,make_union\n",
    "from sklearn.linear_model import Lasso\n",
    "from sklearn.preprocessing import LabelBinarizer,StandardScaler,LabelEncoder,RobustScaler,OneHotEncoder,Imputer,PolynomialFeatures,MinMaxScaler\n",
    "class str_extractor(object):\n",
    "    def __init__(self):\n",
    "        pass\n",
    "    def transform(self,df):\n",
    "        lst = ['room_type']\n",
    "        le = LabelEncoder()\n",
    "        data = np.asarray(le.fit_transform(df[lst])).reshape(-1,1)\n",
    "        return data\n",
    "    \n",
    "    def fit(self,df,y = None):\n",
    "        return self\n",
    "class binary_extractor(object):\n",
    "    \n",
    "    def __init__(self):\n",
    "        pass\n",
    "    \n",
    "    def transform(self,df):\n",
    "        boollst=[]\n",
    "       \n",
    "       \n",
    "        lst = [ 'induction']\n",
    "        return df[lst]\n",
    "    \n",
    "    def fit(self,df,y = None):\n",
    "        return self\n",
    "class float_extractor(object):\n",
    "    \n",
    "    def __init__(self):\n",
    "        pass\n",
    "    \n",
    "    def transform(self,df):\n",
    "        lst = ['room_size','park','elder_ratio','d_to_fancy','building_floor','room_floor','star_bucks','distance_gn','park' ]\n",
    "        return df[lst]\n",
    "    def fit(self,df,y = None):\n",
    "        return self    \n",
    "class bool_extractor(object):\n",
    "    \n",
    "    def __init__(self):\n",
    "        pass\n",
    "    \n",
    "    def transform(self,df):\n",
    "        lst=['animal']\n",
    "\n",
    "        return df[lst]\n",
    "    \n",
    "    def fit(self,df,y = None):\n",
    "        return self\n",
    "class DenseTransformer(object):\n",
    "\n",
    "    def transform(self, X, y=None, **fit_params):\n",
    "        return X.todense()\n",
    "\n",
    "    def fit_transform(self, X, y=None, **fit_params):\n",
    "        self.fit(X, y, **fit_params)\n",
    "        return self.transform(X)\n",
    "\n",
    "    def fit(self, X, y=None, **fit_params):\n",
    "        return self\n",
    "lb = LabelBinarizer()    \n",
    "pf = PolynomialFeatures(2)\n",
    "le = LabelEncoder()\n",
    "ohe = OneHotEncoder()\n",
    "sc  = StandardScaler()\n",
    "rs = RobustScaler()\n",
    "mms = MinMaxScaler()\n",
    "dt = DenseTransformer()\n",
    "\n",
    "\n",
    "cross_score =[]\n",
    "pl1 = make_pipeline(float_extractor(),imp,sc)\n",
    "pl2 = make_pipeline(binary_extractor())\n",
    "pl3 = make_pipeline(bool_extractor(),lb)\n",
    "pl4 = make_pipeline(str_extractor(),OneHotEncoder(),dt)\n",
    "pl5 = make_union(pl1,pl2,pl3,pl4)\n",
    "pca_features = pl5.fit_transform(train_features)\n",
    "model = Lasso(alpha = 0.0001)\n",
    "crossscore =-np.mean(cross_val_score(model,pca_features,np.log(train_price),'r2',cv=5))\n",
    "crossscore\n"
   ]
  },
  {
   "cell_type": "code",
   "execution_count": 29,
   "metadata": {
    "collapsed": false
   },
   "outputs": [
    {
     "name": "stderr",
     "output_type": "stream",
     "text": [
      "c:\\python27\\lib\\site-packages\\sklearn\\preprocessing\\label.py:125: DataConversionWarning: A column-vector y was passed when a 1d array was expected. Please change the shape of y to (n_samples, ), for example using ravel().\n",
      "  y = column_or_1d(y, warn=True)\n"
     ]
    },
    {
     "data": {
      "text/plain": [
       "0.082663274268065565"
      ]
     },
     "execution_count": 29,
     "metadata": {},
     "output_type": "execute_result"
    }
   ],
   "source": [
    "model = Lasso(alpha = 0.0001).fit(pca_features,np.log(train_price))\n",
    "prediction = model.predict(pl5.transform(test_features))\n",
    "np.mean((prediction-np.log(test_price))**2)\n"
   ]
  },
  {
   "cell_type": "code",
   "execution_count": 30,
   "metadata": {
    "collapsed": false
   },
   "outputs": [
    {
     "name": "stderr",
     "output_type": "stream",
     "text": [
      "c:\\python27\\lib\\site-packages\\sklearn\\preprocessing\\label.py:125: DataConversionWarning: A column-vector y was passed when a 1d array was expected. Please change the shape of y to (n_samples, ), for example using ravel().\n",
      "  y = column_or_1d(y, warn=True)\n"
     ]
    },
    {
     "data": {
      "text/plain": [
       "0.55058645746279855"
      ]
     },
     "execution_count": 30,
     "metadata": {},
     "output_type": "execute_result"
    }
   ],
   "source": [
    "model.score(pl5.transform(test_features),np.log(test_price))\n"
   ]
  },
  {
   "cell_type": "code",
   "execution_count": 31,
   "metadata": {
    "collapsed": false
   },
   "outputs": [
    {
     "data": {
      "image/png": "[encoded data removed]",
      "text/plain": [
       "<matplotlib.figure.Figure at 0x113614d0>"
      ]
     },
     "metadata": {},
     "output_type": "display_data"
    }
   ],
   "source": [
    "plt.scatter(prediction,np.log(test_price))\n",
    "plt.show()"
   ]
  },
  {
   "cell_type": "code",
   "execution_count": null,
   "metadata": {
    "collapsed": true
   },
   "outputs": [],
   "source": []
  },
  {
   "cell_type": "code",
   "execution_count": 566,
   "metadata": {
    "collapsed": false
   },
   "outputs": [
    {
     "name": "stderr",
     "output_type": "stream",
     "text": [
      "c:\\python27\\lib\\site-packages\\sklearn\\preprocessing\\label.py:125: DataConversionWarning: A column-vector y was passed when a 1d array was expected. Please change the shape of y to (n_samples, ), for example using ravel().\n",
      "  y = column_or_1d(y, warn=True)\n"
     ]
    },
    {
     "data": {
      "text/plain": [
       "6408.9820683052558"
      ]
     },
     "execution_count": 566,
     "metadata": {},
     "output_type": "execute_result"
    }
   ],
   "source": [
    "index10features = pl5.transform(test_df.ix[1222:1223,:])\n",
    "np.exp(model.predict(index10features)[0])\n"
   ]
  },
  {
   "cell_type": "code",
   "execution_count": 41,
   "metadata": {
    "collapsed": false
   },
   "outputs": [
    {
     "name": "stdout",
     "output_type": "stream",
     "text": [
      "-0.536787824173\n"
     ]
    },
    {
     "name": "stderr",
     "output_type": "stream",
     "text": [
      "c:\\python27\\lib\\site-packages\\sklearn\\preprocessing\\label.py:125: DataConversionWarning: A column-vector y was passed when a 1d array was expected. Please change the shape of y to (n_samples, ), for example using ravel().\n",
      "  y = column_or_1d(y, warn=True)\n"
     ]
    }
   ],
   "source": [
    "from sklearn.decomposition import PCA,KernelPCA\n",
    "from sklearn.pipeline import Pipeline\n",
    "from sklearn.preprocessing import LabelEncoder,LabelBinarizer\n",
    "from sklearn.linear_model import LinearRegression,LogisticRegression\n",
    "from sklearn.preprocessing import PolynomialFeatures\n",
    "from sklearn.preprocessing import StandardScaler,RobustScaler,MinMaxScaler\n",
    "from sklearn.preprocessing import Normalizer\n",
    "from sklearn.preprocessing import OneHotEncoder\n",
    "from sklearn.pipeline      import FeatureUnion\n",
    "from sklearn.preprocessing import RobustScaler\n",
    "from sklearn  import metrics \n",
    "from sklearn.ensemble import ExtraTreesClassifier\n",
    "\n",
    "#from sklearn.preprocessing import ColumnExtractor\n",
    "class Price_extractor(object):\n",
    "    def __init__(self):\n",
    "        pass\n",
    "   \n",
    "    \n",
    "    def transform(self,df):\n",
    "        for i in df: \n",
    "            if i =='price':\n",
    "                return df.price.reshape(-1,1)\n",
    "    \n",
    "    def fit(self,df,y = None):\n",
    "        return self\n",
    "class str_extractor(object):\n",
    "    def __init__(self):\n",
    "        pass\n",
    "    def transform(self,df):\n",
    "        lst = ['room_type']\n",
    "        le = LabelEncoder()\n",
    "        data = np.asarray(le.fit_transform(df[lst])).reshape(-1,1)\n",
    "        return data\n",
    "    \n",
    "    def fit(self,df,y = None):\n",
    "        return self\n",
    "class float_extractor(object):\n",
    "    \n",
    "    def __init__(self):\n",
    "        pass\n",
    "    \n",
    "    def transform(self,df):\n",
    "        lst = [  u'building_floor', u'd_to_bank', u'd_to_coffe', u'd_to_conv',\n",
    "       u'd_to_metro',u'metro_count', 'room_floor', u'room_size' ,u'd_to_fancy', u'park', u'distance_gn', u'distance_md', u'd_to_mac', \n",
    "        u'star_bucks',\n",
    "        u'elder_ratio', u'totalbanks']\n",
    "        \n",
    "\n",
    "        return df[lst]\n",
    "    \n",
    "    def fit(self,df,y = None):\n",
    "        return self\n",
    "class binary_extractor(object):\n",
    "    \n",
    "    def __init__(self):\n",
    "        pass\n",
    "    \n",
    "    def transform(self,df):\n",
    "        boollst=[]\n",
    "       \n",
    "       \n",
    "        lst = [ 'desk','closet','tv','shoes','refrigerator','gas','induction','microwave','doar_lock','biddet']\n",
    "        return df[lst]\n",
    "    \n",
    "    def fit(self,df,y = None):\n",
    "        return self\n",
    "class bool_extractor(object):\n",
    "    \n",
    "    def __init__(self):\n",
    "        pass\n",
    "    \n",
    "    def transform(self,df):\n",
    "        lst=['animal','elevator']\n",
    "\n",
    "        return df[lst]\n",
    "    \n",
    "    def fit(self,df,y = None):\n",
    "        return self\n",
    "\n",
    "class DenseTransformer(object):\n",
    "\n",
    "    def transform(self, X, y=None, **fit_params):\n",
    "        return X.todense()\n",
    "\n",
    "    def fit_transform(self, X, y=None, **fit_params):\n",
    "        self.fit(X, y, **fit_params)\n",
    "        return self.transform(X)\n",
    "\n",
    "    def fit(self, X, y=None, **fit_params):\n",
    "        return self\n",
    "class MultiColumnLabelEncoder(object):\n",
    "    def __init__(self,columns = None):\n",
    "        self.columns = columns # array of column names to encode\n",
    "\n",
    "    def fit(self,X,y=None):\n",
    "        return self # not relevant here\n",
    "\n",
    "    def transform(self,X):\n",
    "        '''\n",
    "        Transforms columns of X specified in self.columns using\n",
    "        LabelEncoder(). If no columns specified, transforms all\n",
    "        columns in X.\n",
    "        '''\n",
    "        output = X.copy()\n",
    "        if self.columns is not None:\n",
    "            for col in self.columns:\n",
    "                output[col] = LabelEncoder().fit_transform(output[col])\n",
    "        else:\n",
    "            for colname,col in output.iteritems():\n",
    "                output[colname] = LabelEncoder().fit_transform(col)\n",
    "        return output\n",
    "\n",
    "    def fit_transform(self,X,y=None):\n",
    "        return self.fit(X,y).transform(X)\n",
    "lb = LabelBinarizer()    \n",
    "pf = PolynomialFeatures(2)\n",
    "le = LabelEncoder()\n",
    "ohe = OneHotEncoder()\n",
    "model = LogisticRegression()\n",
    "sc  = StandardScaler()\n",
    "rs = RobustScaler()\n",
    "mms = MinMaxScaler()\n",
    "dt = DenseTransformer()\n",
    "from sklearn.preprocessing import Imputer\n",
    "from sklearn.cross_validation import cross_val_score\n",
    "from sklearn.linear_model import LinearRegression\n",
    "imp = Imputer(missing_values='NaN', strategy='mean', axis=0)\n",
    "from sklearn.linear_model import LinearRegression\n",
    "from sklearn.pipeline import make_pipeline,make_union\n",
    "cross_score =[]\n",
    "pl1 = make_pipeline(float_extractor(),imp,sc,pf,PCA(30))\n",
    "pl2 = make_pipeline(binary_extractor())\n",
    "pl3 = make_pipeline(bool_extractor(),lb)\n",
    "pl4 = make_pipeline(str_extractor(),OneHotEncoder(),dt)\n",
    "pl5 = make_union(pl1,pl2,pl3,pl4)\n",
    "pca_features = pl5.fit_transform(train_features)\n",
    "model = LinearRegression()\n",
    "crossscore =-np.mean(cross_val_score(model,pca_features,np.log(train_price),'r2',cv=5))\n",
    "print crossscore\n"
   ]
  },
  {
   "cell_type": "code",
   "execution_count": 42,
   "metadata": {
    "collapsed": false
   },
   "outputs": [
    {
     "name": "stderr",
     "output_type": "stream",
     "text": [
      "c:\\python27\\lib\\site-packages\\sklearn\\preprocessing\\label.py:125: DataConversionWarning: A column-vector y was passed when a 1d array was expected. Please change the shape of y to (n_samples, ), for example using ravel().\n",
      "  y = column_or_1d(y, warn=True)\n"
     ]
    }
   ],
   "source": [
    "model = model.fit(pca_features,np.log(train_price))\n",
    "testfeatures = pl5.fit_transform(test_features)\n"
   ]
  },
  {
   "cell_type": "code",
   "execution_count": 43,
   "metadata": {
    "collapsed": false
   },
   "outputs": [
    {
     "data": {
      "text/plain": [
       "0.17630648929828843"
      ]
     },
     "execution_count": 43,
     "metadata": {},
     "output_type": "execute_result"
    }
   ],
   "source": [
    "np.mean((model.predict(testfeatures) - np.log(test_price))**2)"
   ]
  },
  {
   "cell_type": "code",
   "execution_count": 6,
   "metadata": {
    "collapsed": false
   },
   "outputs": [],
   "source": [
    "from sklearn.cluster import KMeans\n",
    "from sklearn.preprocessing import Imputer\n",
    "float_datawithprice = train_df[[  u'building_floor', u'd_to_bank', u'd_to_coffe', u'd_to_conv',\n",
    "       u'd_to_metro',u'metro_count', 'room_floor', u'room_size' ,u'd_to_fancy', u'park', u'distance_gn', u'distance_md', u'd_to_mac', \n",
    "        u'star_bucks',\n",
    "        u'elder_ratio', u'totalbanks','price']]\n",
    "imp = Imputer()\n",
    "clusteringf =imp.fit_transform(float_datawithprice)\n"
   ]
  },
  {
   "cell_type": "code",
   "execution_count": 20,
   "metadata": {
    "collapsed": false
   },
   "outputs": [
    {
     "name": "stderr",
     "output_type": "stream",
     "text": [
      "c:\\python27\\lib\\site-packages\\ipykernel\\__main__.py:1: SettingWithCopyWarning: \n",
      "A value is trying to be set on a copy of a slice from a DataFrame.\n",
      "Try using .loc[row_indexer,col_indexer] = value instead\n",
      "\n",
      "See the caveats in the documentation: http://pandas.pydata.org/pandas-docs/stable/indexing.html#indexing-view-versus-copy\n",
      "  if __name__ == '__main__':\n"
     ]
    }
   ],
   "source": [
    "train_df['clusternumber'] = model.predict(clusteringf)"
   ]
  },
  {
   "cell_type": "code",
   "execution_count": null,
   "metadata": {
    "collapsed": true
   },
   "outputs": [],
   "source": []
  }
 ],
 "metadata": {
  "kernelspec": {
   "display_name": "Python 2",
   "language": "python",
   "name": "python2"
  },
  "language_info": {
   "codemirror_mode": {
    "name": "ipython",
    "version": 2
   },
   "file_extension": ".py",
   "mimetype": "text/x-python",
   "name": "python",
   "nbconvert_exporter": "python",
   "pygments_lexer": "ipython2",
   "version": "2.7.12"
  }
 },
 "nbformat": 4,
 "nbformat_minor": 1
}
